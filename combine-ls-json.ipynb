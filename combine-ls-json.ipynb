{
 "cells": [
  {
   "cell_type": "code",
   "execution_count": null,
   "metadata": {},
   "outputs": [
    {
     "name": "stdout",
     "output_type": "stream",
     "text": [
      "Combined data saved to combined_data.json\n"
     ]
    }
   ],
   "source": [
    "import json\n",
    "import os\n",
    "from collections import defaultdict\n",
    "\n",
    "def combine_json_files(directory):\n",
    "    combined_data = []\n",
    "    file_paths = [os.path.join(directory, f) for f in os.listdir(directory) if f.endswith('.json')]\n",
    "\n",
    "    for file_path in file_paths:\n",
    "        try:\n",
    "            with open(file_path, 'r', encoding='utf-8') as file:\n",
    "                data = json.load(file)\n",
    "                combined_data.extend(data)\n",
    "        except UnicodeDecodeError:\n",
    "            # Try with a different encoding if UTF-8 fails\n",
    "            with open(file_path, 'r', encoding='latin-1') as file:\n",
    "                data = json.load(file)\n",
    "                combined_data.extend(data)\n",
    "        except json.JSONDecodeError as e:\n",
    "            print(f\"Error reading {file_path}: {str(e)}\")\n",
    "            continue\n",
    "        except Exception as e:\n",
    "            print(f\"Unexpected error reading {file_path}: {str(e)}\")\n",
    "            continue\n",
    "\n",
    "    return combined_data\n",
    "\n",
    "def save_combined_data(combined_data, output_file):\n",
    "    try:\n",
    "        with open(output_file, 'w', encoding='utf-8') as file:\n",
    "            json.dump(combined_data, file, indent=4, ensure_ascii=False)\n",
    "    except Exception as e:\n",
    "        print(f\"Error saving combined data: {str(e)}\")\n",
    "\n",
    "if __name__ == \"__main__\":\n",
    "    directory = r'D:\\OneDrive - Personal\\json'\n",
    "    output_file = 'combined_data.json'\n",
    "\n",
    "    try:\n",
    "        combined_data = combine_json_files(directory)\n",
    "        save_combined_data(combined_data, output_file)\n",
    "        print(f\"Combined data saved to {output_file}\")\n",
    "    except Exception as e:\n",
    "        print(f\"Error in main execution: {str(e)}\")"
   ]
  },
  {
   "cell_type": "code",
   "execution_count": null,
   "metadata": {},
   "outputs": [],
   "source": []
  }
 ],
 "metadata": {
  "kernelspec": {
   "display_name": "Python 3",
   "language": "python",
   "name": "python3"
  },
  "language_info": {
   "codemirror_mode": {
    "name": "ipython",
    "version": 3
   },
   "file_extension": ".py",
   "mimetype": "text/x-python",
   "name": "python",
   "nbconvert_exporter": "python",
   "pygments_lexer": "ipython3",
   "version": "3.12.7"
  }
 },
 "nbformat": 4,
 "nbformat_minor": 2
}
